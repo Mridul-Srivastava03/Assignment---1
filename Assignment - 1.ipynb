{
 "cells": [
  {
   "cell_type": "markdown",
   "id": "58e70347-86c3-480f-b200-e7d14508a7aa",
   "metadata": {},
   "source": [
    "# Ques 1: Create one variable containing following type of data:"
   ]
  },
  {
   "cell_type": "markdown",
   "id": "2f7e2965-848b-4b7e-b9c0-08a6105a43e9",
   "metadata": {},
   "source": [
    "(i) string"
   ]
  },
  {
   "cell_type": "code",
   "execution_count": 1,
   "id": "624694c1-c597-45d0-b8e7-cb6c1a39e55a",
   "metadata": {},
   "outputs": [
    {
     "data": {
      "text/plain": [
       "str"
      ]
     },
     "execution_count": 1,
     "metadata": {},
     "output_type": "execute_result"
    }
   ],
   "source": [
    "s = \"Mridul\"\n",
    "type(s)"
   ]
  },
  {
   "cell_type": "markdown",
   "id": "6729bf80-a81a-4be1-a444-df0c6d2ad5a5",
   "metadata": {},
   "source": [
    "(ii) list"
   ]
  },
  {
   "cell_type": "code",
   "execution_count": 2,
   "id": "90890f6e-b9b9-4b98-95d0-7c28cec898d0",
   "metadata": {},
   "outputs": [
    {
     "data": {
      "text/plain": [
       "list"
      ]
     },
     "execution_count": 2,
     "metadata": {},
     "output_type": "execute_result"
    }
   ],
   "source": [
    "l = [3, 7, 0, 3, \"Mridul\", 7.167]\n",
    "type(l)"
   ]
  },
  {
   "cell_type": "markdown",
   "id": "06695c1e-7e80-4136-ba40-23fc0458144e",
   "metadata": {},
   "source": [
    "(iii) float"
   ]
  },
  {
   "cell_type": "code",
   "execution_count": 1,
   "id": "edd19e96-5738-4931-867d-97d27b58aa03",
   "metadata": {},
   "outputs": [
    {
     "data": {
      "text/plain": [
       "float"
      ]
     },
     "execution_count": 1,
     "metadata": {},
     "output_type": "execute_result"
    }
   ],
   "source": [
    "f = 3.703\n",
    "type(f)"
   ]
  },
  {
   "cell_type": "markdown",
   "id": "83cd7635-97f4-4f9a-855b-19c116068817",
   "metadata": {},
   "source": [
    "(iv) tuple"
   ]
  },
  {
   "cell_type": "code",
   "execution_count": null,
   "id": "26af7c3d-9568-45af-860d-fe2ac82228ba",
   "metadata": {},
   "outputs": [],
   "source": [
    "t = "
   ]
  },
  {
   "cell_type": "markdown",
   "id": "88ccf577-e022-445e-8003-77f7615c581d",
   "metadata": {},
   "source": [
    "# Ques 2: Given are some following variables containing data:\n",
    "\n",
    "# What will be the data type of the above given variable.What will be the data type of the above given variable."
   ]
  },
  {
   "cell_type": "markdown",
   "id": "2666c8cf-0f6f-41a6-8d6f-444b9f625861",
   "metadata": {},
   "source": [
    "(i) var1 = ‘ ‘"
   ]
  },
  {
   "cell_type": "code",
   "execution_count": 2,
   "id": "d22f2281-dfa1-4542-b96c-d40964e0bf16",
   "metadata": {},
   "outputs": [
    {
     "data": {
      "text/plain": [
       "str"
      ]
     },
     "execution_count": 2,
     "metadata": {},
     "output_type": "execute_result"
    }
   ],
   "source": [
    "var1 = ' ' \n",
    "type(var1)"
   ]
  },
  {
   "cell_type": "markdown",
   "id": "b31a554d-46ac-43f0-a8dd-9a0cb5471a24",
   "metadata": {},
   "source": [
    "(ii) var2 = ‘[ DS , ML , Python]’"
   ]
  },
  {
   "cell_type": "code",
   "execution_count": 3,
   "id": "2a2a76e2-83df-48d8-98bf-d7e4a736759b",
   "metadata": {},
   "outputs": [
    {
     "data": {
      "text/plain": [
       "str"
      ]
     },
     "execution_count": 3,
     "metadata": {},
     "output_type": "execute_result"
    }
   ],
   "source": [
    "var2 = '[ DS , ML , Python]'\n",
    "type(var2)"
   ]
  },
  {
   "cell_type": "markdown",
   "id": "815f2347-fd12-4160-9481-68c8d463fbd6",
   "metadata": {},
   "source": [
    "(iii) var3 = [ ‘DS’ , ’ML’ , ‘Python’ ]"
   ]
  },
  {
   "cell_type": "code",
   "execution_count": 4,
   "id": "40f1ece8-56be-4faa-bf48-de0e079144f6",
   "metadata": {},
   "outputs": [
    {
     "data": {
      "text/plain": [
       "list"
      ]
     },
     "execution_count": 4,
     "metadata": {},
     "output_type": "execute_result"
    }
   ],
   "source": [
    "var3 = [ 'DS' , 'ML' , 'Python' ]\n",
    "type(var3)"
   ]
  },
  {
   "cell_type": "markdown",
   "id": "fa0b7377-bad1-428b-97c3-f1414a615f3b",
   "metadata": {},
   "source": [
    "(iv) var4 = 1."
   ]
  },
  {
   "cell_type": "code",
   "execution_count": 5,
   "id": "9dee0850-f66e-4df1-afbd-2c9aa5c5a9fb",
   "metadata": {},
   "outputs": [
    {
     "data": {
      "text/plain": [
       "int"
      ]
     },
     "execution_count": 5,
     "metadata": {},
     "output_type": "execute_result"
    }
   ],
   "source": [
    "var4 = 1\n",
    "type(var4)"
   ]
  },
  {
   "cell_type": "markdown",
   "id": "be4a9bf8-01a3-4dfd-9e44-83b1a64251a5",
   "metadata": {},
   "source": [
    "# Ques 3: Explain the use of the following operators using an example:"
   ]
  },
  {
   "cell_type": "markdown",
   "id": "d42dd254-c15a-4f40-93d0-9f9f1dfc8b06",
   "metadata": {},
   "source": [
    "(i) / - It is used to perform simple division operations."
   ]
  },
  {
   "cell_type": "markdown",
   "id": "9d45051f-dcc8-44fc-ba1a-d88c55fbc3a6",
   "metadata": {},
   "source": [
    "(ii) % - It is called modulus operator. It is used to calculate the remainder of two numbers."
   ]
  },
  {
   "cell_type": "markdown",
   "id": "e982dc11-e3f9-4e79-8ddf-863b49fac515",
   "metadata": {},
   "source": [
    "(iii) // - It is called floor division operator. It is used to calculate quotient and return value in integer type."
   ]
  },
  {
   "cell_type": "markdown",
   "id": "54db3dc9-d845-44d8-83f2-9c90854e3063",
   "metadata": {},
   "source": [
    "(iv) ** - It is called exponential operator. It is used to calculate power of given base and power."
   ]
  },
  {
   "cell_type": "markdown",
   "id": "8ae73d95-d407-4974-8741-900640533176",
   "metadata": {},
   "source": [
    "# Ques 4: Create a list of length 10 of your choice containing multiple types of data. Using for loop print the element and its data type."
   ]
  },
  {
   "cell_type": "code",
   "execution_count": 3,
   "id": "e228c187-dc21-465f-a069-bcbba74020d7",
   "metadata": {},
   "outputs": [
    {
     "name": "stdout",
     "output_type": "stream",
     "text": [
      "Mridul\n",
      "<class 'str'>\n",
      "302\n",
      "<class 'int'>\n",
      "3.96\n",
      "<class 'float'>\n",
      "Mastiii\n",
      "<class 'str'>\n",
      "True\n",
      "<class 'bool'>\n",
      "False\n",
      "<class 'bool'>\n",
      "3703\n",
      "<class 'int'>\n",
      "Moj\n",
      "<class 'str'>\n",
      "0.999999\n",
      "<class 'float'>\n",
      "Jai Shree Ram|\n",
      "<class 'str'>\n"
     ]
    }
   ],
   "source": [
    "l1 = [\"Mridul\", 302, 3.96, \"Mastiii\", True, False, 3703, \"Moj\", 0.999999, \"Jai Shree Ram|\",]\n",
    "for i in l1:\n",
    "    print(i)\n",
    "    print(type(i))"
   ]
  },
  {
   "cell_type": "markdown",
   "id": "a539c1fc-d48b-40cd-92be-e4ab4d40455d",
   "metadata": {},
   "source": [
    "# Ques 6: Create a list containing 25 int type data. Using for loop and if-else condition print if the element is divisible by 3 or not."
   ]
  },
  {
   "cell_type": "code",
   "execution_count": 4,
   "id": "d30667ee-5b80-444e-828c-f3ce2110aaba",
   "metadata": {},
   "outputs": [
    {
     "name": "stdout",
     "output_type": "stream",
     "text": [
      "3\n",
      "6\n",
      "9\n",
      "12\n",
      "15\n",
      "18\n",
      "21\n",
      "24\n"
     ]
    }
   ],
   "source": [
    "l2 = [1, 2, 3, 4, 5, 6, 7, 8, 9, 10, 11, 12, 13, 14, 15, 16, 17, 18, 19, 20, 21, 22, 23, 24, 25]\n",
    "for i in l2:\n",
    "    if i % 3 != 0:\n",
    "        continue\n",
    "    print(i)"
   ]
  },
  {
   "cell_type": "markdown",
   "id": "51b408e4-77b9-469c-82f4-c1936553293c",
   "metadata": {},
   "source": [
    "# Ques 7: What do you understand about mutable and immutable data types? Give examples for both showing this property."
   ]
  },
  {
   "cell_type": "markdown",
   "id": "eec845d0-7491-4fd9-aba0-0f4187edc0ca",
   "metadata": {},
   "source": [
    "Mutable data type - When we change or modify some data from a set of data is called mutable data type. eg :- list."
   ]
  },
  {
   "cell_type": "markdown",
   "id": "c0fd747a-074d-4a7e-90c9-a894f0f934e9",
   "metadata": {},
   "source": [
    "Immuatable data type - When we cannot change or modify some data from a set of data is called immutable data type. eg :- string. "
   ]
  }
 ],
 "metadata": {
  "kernelspec": {
   "display_name": "Python 3 (ipykernel)",
   "language": "python",
   "name": "python3"
  },
  "language_info": {
   "codemirror_mode": {
    "name": "ipython",
    "version": 3
   },
   "file_extension": ".py",
   "mimetype": "text/x-python",
   "name": "python",
   "nbconvert_exporter": "python",
   "pygments_lexer": "ipython3",
   "version": "3.10.8"
  }
 },
 "nbformat": 4,
 "nbformat_minor": 5
}
